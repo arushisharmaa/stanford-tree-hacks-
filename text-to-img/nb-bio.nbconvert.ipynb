{
 "cells": [
  {
   "cell_type": "code",
   "execution_count": 1,
   "metadata": {
    "colab": {
     "base_uri": "https://localhost:8080/"
    },
    "execution": {
     "iopub.execute_input": "2025-02-16T19:04:58.335513Z",
     "iopub.status.busy": "2025-02-16T19:04:58.335347Z",
     "iopub.status.idle": "2025-02-16T19:04:58.337536Z",
     "shell.execute_reply": "2025-02-16T19:04:58.337293Z"
    },
    "id": "TGl7OCzEi6Pa",
    "outputId": "39a9ebdc-71fa-48f6-f9d0-30a199891e43"
   },
   "outputs": [],
   "source": [
    "# !pip install openai\n",
    "# !pip install playwright\n",
    "# pip install --upgrade openai"
   ]
  },
  {
   "cell_type": "code",
   "execution_count": 2,
   "metadata": {
    "execution": {
     "iopub.execute_input": "2025-02-16T19:04:58.339106Z",
     "iopub.status.busy": "2025-02-16T19:04:58.339006Z",
     "iopub.status.idle": "2025-02-16T19:04:58.697514Z",
     "shell.execute_reply": "2025-02-16T19:04:58.697233Z"
    },
    "id": "_i3e-xfyJEtA"
   },
   "outputs": [],
   "source": [
    "import openai\n",
    "import os\n",
    "import subprocess\n",
    "from PIL import Image\n",
    "from openai import OpenAIError\n",
    "from dotenv import load_dotenv"
   ]
  },
  {
   "cell_type": "code",
   "execution_count": 3,
   "metadata": {
    "execution": {
     "iopub.execute_input": "2025-02-16T19:04:58.699083Z",
     "iopub.status.busy": "2025-02-16T19:04:58.698963Z",
     "iopub.status.idle": "2025-02-16T19:04:58.701213Z",
     "shell.execute_reply": "2025-02-16T19:04:58.701000Z"
    },
    "id": "LhERIPQaJOk_"
   },
   "outputs": [],
   "source": [
    "load_dotenv()\n",
    "OPENAI_API_KEY = os.getenv(\"OPENAI_API_KEY\")\n",
    "\n",
    "TRANSCRIPT_FILE = \"transcript-bio.txt\"\n",
    "PROMPT_FILE = \"prompt-bio.txt\"\n",
    "\n",
    "# Output Files\n",
    "CODE_JS_FILE = \"sketch.js\"\n",
    "IMAGE_FILE = \"img.png\"\n",
    "HTML_FILE = \"index.html\"\n",
    "P5_JS_LIBRARY = \"p5.js\""
   ]
  },
  {
   "cell_type": "code",
   "execution_count": 4,
   "metadata": {
    "execution": {
     "iopub.execute_input": "2025-02-16T19:04:58.702500Z",
     "iopub.status.busy": "2025-02-16T19:04:58.702411Z",
     "iopub.status.idle": "2025-02-16T19:05:02.077060Z",
     "shell.execute_reply": "2025-02-16T19:05:02.076788Z"
    },
    "id": "Wv9HNCDqGD5b"
   },
   "outputs": [],
   "source": [
    "client = openai.Client(\n",
    "    api_key=OPENAI_API_KEY\n",
    ")\n",
    "\n",
    "try:\n",
    "    with open(PROMPT_FILE, \"r\", encoding=\"utf-8\") as f:\n",
    "        gpt_prompt = f.read()\n",
    "    with open(TRANSCRIPT_FILE, \"r\", encoding=\"utf-8\") as f:\n",
    "        transcript_content = f.read()\n",
    "except FileNotFoundError as e:\n",
    "    print(f\"Error: File not found: {e.filename}\")\n",
    "    exit(1)\n",
    "except Exception as e:\n",
    "    print(f\"Error reading file: {e}\")\n",
    "    exit(1)\n",
    "\n",
    "try:\n",
    "    response = client.chat.completions.create(\n",
    "        model=\"gpt-4o\",\n",
    "        messages=[\n",
    "            {\"role\": \"system\", \"content\": gpt_prompt},\n",
    "            {\"role\": \"user\", \"content\": f\"<transcript>{transcript_content}<transcript>\"}\n",
    "        ],\n",
    "        temperature=0.2,  # Adjust for creativity\n",
    "    )\n",
    "    code_js = response.choices[0].message.content\n",
    "except OpenAIError as e:\n",
    "    print(f\"OpenAI API Error: {e}\")\n",
    "    exit(1)\n",
    "except Exception as e:\n",
    "    print(f\"Error during GPT interaction: {e}\")\n",
    "    exit(1)"
   ]
  },
  {
   "cell_type": "code",
   "execution_count": 5,
   "metadata": {
    "colab": {
     "base_uri": "https://localhost:8080/",
     "height": 143
    },
    "execution": {
     "iopub.execute_input": "2025-02-16T19:05:02.078878Z",
     "iopub.status.busy": "2025-02-16T19:05:02.078799Z",
     "iopub.status.idle": "2025-02-16T19:05:02.081449Z",
     "shell.execute_reply": "2025-02-16T19:05:02.081228Z"
    },
    "id": "qDn0orKnzRBT",
    "outputId": "4641d984-3cd4-441b-ed38-19d75753999a"
   },
   "outputs": [
    {
     "data": {
      "text/plain": [
       "'```javascript\\nfunction setup() {\\n  createCanvas(800, 600);\\n  background(255);\\n  noLoop();\\n  setTimeout(() => { saveCanvas(\\'img\\', \\'png\\'); document.body.setAttribute(\"data-ready\", \"true\"); }, 500);\\n}\\n\\nfunction draw() {\\n  let colors = [\\'#FF6347\\', \\'#4682B4\\', \\'#32CD32\\', \\'#FFD700\\'];\\n  let bases = [\\'A\\', \\'T\\', \\'C\\', \\'G\\'];\\n  let x = 100;\\n  let y = 300;\\n  let baseWidth = 50;\\n  let baseHeight = 100;\\n  \\n  for (let i = 0; i < 20; i++) {\\n    let index = floor(random(4));\\n    fill(colors[index]);\\n    rect(x, y - baseHeight / 2, baseWidth, baseHeight);\\n    fill(0);\\n    textSize(32);\\n    textAlign(CENTER, CENTER);\\n    text(bases[index], x + baseWidth / 2, y);\\n    x += baseWidth + 10;\\n  }\\n}\\n```'"
      ]
     },
     "execution_count": 5,
     "metadata": {},
     "output_type": "execute_result"
    }
   ],
   "source": [
    "code_js"
   ]
  },
  {
   "cell_type": "code",
   "execution_count": 6,
   "metadata": {
    "colab": {
     "base_uri": "https://localhost:8080/"
    },
    "execution": {
     "iopub.execute_input": "2025-02-16T19:05:02.103132Z",
     "iopub.status.busy": "2025-02-16T19:05:02.103017Z",
     "iopub.status.idle": "2025-02-16T19:05:02.105598Z",
     "shell.execute_reply": "2025-02-16T19:05:02.105325Z"
    },
    "id": "DuvCkJMXz90v",
    "outputId": "5400b270-554b-4744-aa4c-213669960f55"
   },
   "outputs": [
    {
     "name": "stdout",
     "output_type": "stream",
     "text": [
      "Generated p5.js code saved to: sketch.js\n"
     ]
    }
   ],
   "source": [
    "# --- Save p5.js Code ---\n",
    "import re\n",
    "cleaned_code = re.sub(r\"```javascript\\n|```\", \"\", code_js)\n",
    "\n",
    "try:\n",
    "    with open(CODE_JS_FILE, \"w\", encoding=\"utf-8\") as f:\n",
    "        f.write(cleaned_code)\n",
    "    print(f\"Generated p5.js code saved to: {CODE_JS_FILE}\")\n",
    "except Exception as e:\n",
    "    print(f\"Error saving p5.js code: {e}\")\n",
    "    exit(1)\n"
   ]
  },
  {
   "cell_type": "code",
   "execution_count": 7,
   "metadata": {
    "colab": {
     "base_uri": "https://localhost:8080/"
    },
    "execution": {
     "iopub.execute_input": "2025-02-16T19:05:02.106929Z",
     "iopub.status.busy": "2025-02-16T19:05:02.106840Z",
     "iopub.status.idle": "2025-02-16T19:05:02.108448Z",
     "shell.execute_reply": "2025-02-16T19:05:02.108226Z"
    },
    "id": "_vfRr2V8XXZh",
    "outputId": "f18d9404-51c0-47fa-d981-613c90c4ff09"
   },
   "outputs": [],
   "source": [
    "# import asyncio\n",
    "# from playwright.async_api import async_playwright\n",
    "\n",
    "# async def capture_screenshot():\n",
    "#     async with async_playwright() as p:\n",
    "#         browser = await p.chromium.launch()\n",
    "#         page = await browser.new_page()\n",
    "\n",
    "#         # Open the p5.js sketch URL (Replace with your actual URL)\n",
    "#         await page.goto(\"http://localhost:8000\")\n",
    "\n",
    "#         # Wait for the canvas to be ready\n",
    "#         await page.wait_for_selector(\"canvas\")\n",
    "\n",
    "#         # Take a screenshot and save it as \"screenshot.png\"\n",
    "#         await page.screenshot(path=\"img.png\")\n",
    "\n",
    "#         await browser.close()\n",
    "#         print(\"Diagram saved as 'img.png'\")\n",
    "\n",
    "# # Run the function inside Jupyter Notebook\n",
    "# await capture_screenshot()"
   ]
  },
  {
   "cell_type": "code",
   "execution_count": 8,
   "metadata": {
    "colab": {
     "base_uri": "https://localhost:8080/",
     "height": 472
    },
    "execution": {
     "iopub.execute_input": "2025-02-16T19:05:02.109631Z",
     "iopub.status.busy": "2025-02-16T19:05:02.109548Z",
     "iopub.status.idle": "2025-02-16T19:05:04.315402Z",
     "shell.execute_reply": "2025-02-16T19:05:04.315069Z"
    },
    "id": "mSSFoY_xb9mf",
    "outputId": "a0f6a636-de27-4965-e566-5f4df28b0390"
   },
   "outputs": [
    {
     "name": "stdout",
     "output_type": "stream",
     "text": [
      "Image saved as img.png\n"
     ]
    }
   ],
   "source": [
    "import asyncio\n",
    "from playwright.async_api import async_playwright\n",
    "\n",
    "async def capture_image():\n",
    "    async with async_playwright() as p:\n",
    "        browser = await p.chromium.launch()\n",
    "        page = await browser.new_page()\n",
    "\n",
    "        # Open the local p5.js sketch\n",
    "        await page.goto(\"http://localhost:8000/index.html\")\n",
    "\n",
    "        # Wait for the body to get the 'data-ready' attribute\n",
    "        await page.wait_for_selector(\"body[data-ready='true']\")\n",
    "\n",
    "        # Capture the image\n",
    "        await page.screenshot(path=\"img_bio.png\")\n",
    "\n",
    "        await browser.close()\n",
    "        print(\"Image saved as img.png\")\n",
    "\n",
    "# Run the async function in Jupyter Notebook\n",
    "await capture_image()"
   ]
  }
 ],
 "metadata": {
  "colab": {
   "provenance": []
  },
  "kernelspec": {
   "display_name": "Python 3",
   "name": "python3"
  },
  "language_info": {
   "codemirror_mode": {
    "name": "ipython",
    "version": 3
   },
   "file_extension": ".py",
   "mimetype": "text/x-python",
   "name": "python",
   "nbconvert_exporter": "python",
   "pygments_lexer": "ipython3",
   "version": "3.11.7"
  }
 },
 "nbformat": 4,
 "nbformat_minor": 0
}
