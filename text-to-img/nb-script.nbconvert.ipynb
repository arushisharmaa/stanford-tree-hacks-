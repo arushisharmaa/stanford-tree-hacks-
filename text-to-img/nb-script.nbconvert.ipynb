{
 "cells": [
  {
   "cell_type": "code",
   "execution_count": 1,
   "metadata": {
    "colab": {
     "base_uri": "https://localhost:8080/"
    },
    "execution": {
     "iopub.execute_input": "2025-02-16T19:04:15.471485Z",
     "iopub.status.busy": "2025-02-16T19:04:15.471213Z",
     "iopub.status.idle": "2025-02-16T19:04:15.475805Z",
     "shell.execute_reply": "2025-02-16T19:04:15.475265Z"
    },
    "id": "TGl7OCzEi6Pa",
    "outputId": "39a9ebdc-71fa-48f6-f9d0-30a199891e43"
   },
   "outputs": [],
   "source": [
    "# !pip install openai\n",
    "# !pip install playwright\n",
    "# pip install --upgrade openai"
   ]
  },
  {
   "cell_type": "code",
   "execution_count": 2,
   "metadata": {
    "execution": {
     "iopub.execute_input": "2025-02-16T19:04:15.479109Z",
     "iopub.status.busy": "2025-02-16T19:04:15.478846Z",
     "iopub.status.idle": "2025-02-16T19:04:15.795483Z",
     "shell.execute_reply": "2025-02-16T19:04:15.795238Z"
    },
    "id": "_i3e-xfyJEtA"
   },
   "outputs": [],
   "source": [
    "import openai\n",
    "import os\n",
    "import subprocess\n",
    "from PIL import Image\n",
    "from openai import OpenAIError\n",
    "from dotenv import load_dotenv"
   ]
  },
  {
   "cell_type": "code",
   "execution_count": 3,
   "metadata": {
    "execution": {
     "iopub.execute_input": "2025-02-16T19:04:15.797226Z",
     "iopub.status.busy": "2025-02-16T19:04:15.797112Z",
     "iopub.status.idle": "2025-02-16T19:04:15.799227Z",
     "shell.execute_reply": "2025-02-16T19:04:15.799035Z"
    },
    "id": "LhERIPQaJOk_"
   },
   "outputs": [],
   "source": [
    "load_dotenv()\n",
    "OPENAI_API_KEY = os.getenv(\"OPENAI_API_KEY\")\n",
    "\n",
    "TRANSCRIPT_FILE = \"transcript-ds.txt\"\n",
    "PROMPT_FILE = \"prompt-ds.txt\"\n",
    "\n",
    "# Output Files\n",
    "CODE_JS_FILE = \"sketch.js\"\n",
    "IMAGE_FILE = \"img.png\"\n",
    "HTML_FILE = \"index.html\"\n",
    "P5_JS_LIBRARY = \"p5.js\""
   ]
  },
  {
   "cell_type": "code",
   "execution_count": 4,
   "metadata": {
    "execution": {
     "iopub.execute_input": "2025-02-16T19:04:15.800320Z",
     "iopub.status.busy": "2025-02-16T19:04:15.800246Z",
     "iopub.status.idle": "2025-02-16T19:04:19.175485Z",
     "shell.execute_reply": "2025-02-16T19:04:19.175005Z"
    },
    "id": "Wv9HNCDqGD5b"
   },
   "outputs": [],
   "source": [
    "client = openai.Client(\n",
    "    api_key=OPENAI_API_KEY\n",
    ")\n",
    "\n",
    "try:\n",
    "    with open(PROMPT_FILE, \"r\", encoding=\"utf-8\") as f:\n",
    "        gpt_prompt = f.read()\n",
    "    with open(TRANSCRIPT_FILE, \"r\", encoding=\"utf-8\") as f:\n",
    "        transcript_content = f.read()\n",
    "except FileNotFoundError as e:\n",
    "    print(f\"Error: File not found: {e.filename}\")\n",
    "    exit(1)\n",
    "except Exception as e:\n",
    "    print(f\"Error reading file: {e}\")\n",
    "    exit(1)\n",
    "\n",
    "try:\n",
    "    response = client.chat.completions.create(\n",
    "        model=\"gpt-4o\",\n",
    "        messages=[\n",
    "            {\"role\": \"system\", \"content\": gpt_prompt},\n",
    "            {\"role\": \"user\", \"content\": f\"<transcript>{transcript_content}<transcript>\"}\n",
    "        ],\n",
    "        temperature=0.2,  # Adjust for creativity\n",
    "    )\n",
    "    code_js = response.choices[0].message.content\n",
    "except OpenAIError as e:\n",
    "    print(f\"OpenAI API Error: {e}\")\n",
    "    exit(1)\n",
    "except Exception as e:\n",
    "    print(f\"Error during GPT interaction: {e}\")\n",
    "    exit(1)"
   ]
  },
  {
   "cell_type": "code",
   "execution_count": 5,
   "metadata": {
    "colab": {
     "base_uri": "https://localhost:8080/",
     "height": 143
    },
    "execution": {
     "iopub.execute_input": "2025-02-16T19:04:19.178266Z",
     "iopub.status.busy": "2025-02-16T19:04:19.178056Z",
     "iopub.status.idle": "2025-02-16T19:04:19.182765Z",
     "shell.execute_reply": "2025-02-16T19:04:19.182377Z"
    },
    "id": "qDn0orKnzRBT",
    "outputId": "4641d984-3cd4-441b-ed38-19d75753999a"
   },
   "outputs": [
    {
     "data": {
      "text/plain": [
       "'```javascript\\nlet nodes = [\\'A\\', \\'B\\', \\'C\\', \\'D\\', \\'E\\'];\\nlet positions = [];\\nlet radius = 20;\\nlet spacing = 100;\\n\\nfunction setup() {\\n  createCanvas(600, 200);\\n  for (let i = 0; i < nodes.length; i++) {\\n    positions.push(createVector(50 + i * spacing, height / 2));\\n  }\\n  setTimeout(() => { saveCanvas(\\'img\\', \\'png\\'); document.body.setAttribute(\"data-ready\", \"true\"); }, 500);\\n}\\n\\nfunction draw() {\\n  background(255);\\n  stroke(0);\\n  fill(255);\\n\\n  for (let i = 0; i < positions.length; i++) {\\n    ellipse(positions[i].x, positions[i].y, radius * 2, radius * 2);\\n    fill(0);\\n    textAlign(CENTER, CENTER);\\n    text(nodes[i], positions[i].x, positions[i].y);\\n    fill(255);\\n    if (i < positions.length - 1) {\\n      line(positions[i].x + radius, positions[i].y, positions[i + 1].x - radius, positions[i + 1].y);\\n    }\\n  }\\n}\\n```'"
      ]
     },
     "execution_count": 5,
     "metadata": {},
     "output_type": "execute_result"
    }
   ],
   "source": [
    "code_js"
   ]
  },
  {
   "cell_type": "code",
   "execution_count": 6,
   "metadata": {
    "colab": {
     "base_uri": "https://localhost:8080/"
    },
    "execution": {
     "iopub.execute_input": "2025-02-16T19:04:19.213449Z",
     "iopub.status.busy": "2025-02-16T19:04:19.213293Z",
     "iopub.status.idle": "2025-02-16T19:04:19.216267Z",
     "shell.execute_reply": "2025-02-16T19:04:19.216008Z"
    },
    "id": "DuvCkJMXz90v",
    "outputId": "5400b270-554b-4744-aa4c-213669960f55"
   },
   "outputs": [
    {
     "name": "stdout",
     "output_type": "stream",
     "text": [
      "Generated p5.js code saved to: sketch.js\n"
     ]
    }
   ],
   "source": [
    "# --- Save p5.js Code ---\n",
    "import re\n",
    "cleaned_code = re.sub(r\"```javascript\\n|```\", \"\", code_js)\n",
    "\n",
    "try:\n",
    "    with open(CODE_JS_FILE, \"w\", encoding=\"utf-8\") as f:\n",
    "        f.write(cleaned_code)\n",
    "    print(f\"Generated p5.js code saved to: {CODE_JS_FILE}\")\n",
    "except Exception as e:\n",
    "    print(f\"Error saving p5.js code: {e}\")\n",
    "    exit(1)\n"
   ]
  },
  {
   "cell_type": "code",
   "execution_count": 7,
   "metadata": {
    "colab": {
     "base_uri": "https://localhost:8080/"
    },
    "execution": {
     "iopub.execute_input": "2025-02-16T19:04:19.217697Z",
     "iopub.status.busy": "2025-02-16T19:04:19.217604Z",
     "iopub.status.idle": "2025-02-16T19:04:19.219271Z",
     "shell.execute_reply": "2025-02-16T19:04:19.219013Z"
    },
    "id": "_vfRr2V8XXZh",
    "outputId": "f18d9404-51c0-47fa-d981-613c90c4ff09"
   },
   "outputs": [],
   "source": [
    "# import asyncio\n",
    "# from playwright.async_api import async_playwright\n",
    "\n",
    "# async def capture_screenshot():\n",
    "#     async with async_playwright() as p:\n",
    "#         browser = await p.chromium.launch()\n",
    "#         page = await browser.new_page()\n",
    "\n",
    "#         # Open the p5.js sketch URL (Replace with your actual URL)\n",
    "#         await page.goto(\"http://localhost:8000\")\n",
    "\n",
    "#         # Wait for the canvas to be ready\n",
    "#         await page.wait_for_selector(\"canvas\")\n",
    "\n",
    "#         # Take a screenshot and save it as \"screenshot.png\"\n",
    "#         await page.screenshot(path=\"img.png\")\n",
    "\n",
    "#         await browser.close()\n",
    "#         print(\"Diagram saved as 'img.png'\")\n",
    "\n",
    "# # Run the function inside Jupyter Notebook\n",
    "# await capture_screenshot()"
   ]
  },
  {
   "cell_type": "code",
   "execution_count": 8,
   "metadata": {
    "colab": {
     "base_uri": "https://localhost:8080/",
     "height": 472
    },
    "execution": {
     "iopub.execute_input": "2025-02-16T19:04:19.220576Z",
     "iopub.status.busy": "2025-02-16T19:04:19.220477Z",
     "iopub.status.idle": "2025-02-16T19:04:21.355950Z",
     "shell.execute_reply": "2025-02-16T19:04:21.355710Z"
    },
    "id": "mSSFoY_xb9mf",
    "outputId": "a0f6a636-de27-4965-e566-5f4df28b0390"
   },
   "outputs": [
    {
     "name": "stdout",
     "output_type": "stream",
     "text": [
      "Image saved as img.png\n"
     ]
    }
   ],
   "source": [
    "import asyncio\n",
    "from playwright.async_api import async_playwright\n",
    "\n",
    "async def capture_image():\n",
    "    async with async_playwright() as p:\n",
    "        browser = await p.chromium.launch()\n",
    "        page = await browser.new_page()\n",
    "\n",
    "        # Open the local p5.js sketch\n",
    "        await page.goto(\"http://localhost:8000/index.html\")\n",
    "\n",
    "        # Wait for the body to get the 'data-ready' attribute\n",
    "        await page.wait_for_selector(\"body[data-ready='true']\")\n",
    "\n",
    "        # Capture the image\n",
    "        await page.screenshot(path=\"img.png\")\n",
    "\n",
    "        await browser.close()\n",
    "        print(\"Image saved as img.png\")\n",
    "\n",
    "# Run the async function in Jupyter Notebook\n",
    "await capture_image()"
   ]
  }
 ],
 "metadata": {
  "colab": {
   "provenance": []
  },
  "kernelspec": {
   "display_name": "Python 3",
   "name": "python3"
  },
  "language_info": {
   "codemirror_mode": {
    "name": "ipython",
    "version": 3
   },
   "file_extension": ".py",
   "mimetype": "text/x-python",
   "name": "python",
   "nbconvert_exporter": "python",
   "pygments_lexer": "ipython3",
   "version": "3.11.7"
  }
 },
 "nbformat": 4,
 "nbformat_minor": 0
}
