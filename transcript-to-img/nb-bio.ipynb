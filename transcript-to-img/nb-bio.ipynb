{
  "cells": [
    {
      "cell_type": "code",
      "execution_count": 1,
      "metadata": {
        "colab": {
          "base_uri": "https://localhost:8080/"
        },
        "id": "TGl7OCzEi6Pa",
        "outputId": "39a9ebdc-71fa-48f6-f9d0-30a199891e43"
      },
      "outputs": [
        {
          "name": "stdout",
          "output_type": "stream",
          "text": [
            "Requirement already satisfied: openai in /opt/anaconda3/lib/python3.11/site-packages (1.63.0)\n",
            "Requirement already satisfied: anyio<5,>=3.5.0 in /opt/anaconda3/lib/python3.11/site-packages (from openai) (4.2.0)\n",
            "Requirement already satisfied: distro<2,>=1.7.0 in /opt/anaconda3/lib/python3.11/site-packages (from openai) (1.8.0)\n",
            "Requirement already satisfied: httpx<1,>=0.23.0 in /opt/anaconda3/lib/python3.11/site-packages (from openai) (0.26.0)\n",
            "Requirement already satisfied: jiter<1,>=0.4.0 in /opt/anaconda3/lib/python3.11/site-packages (from openai) (0.8.2)\n",
            "Requirement already satisfied: pydantic<3,>=1.9.0 in /opt/anaconda3/lib/python3.11/site-packages (from openai) (1.10.12)\n",
            "Requirement already satisfied: sniffio in /opt/anaconda3/lib/python3.11/site-packages (from openai) (1.3.0)\n",
            "Requirement already satisfied: tqdm>4 in /opt/anaconda3/lib/python3.11/site-packages (from openai) (4.65.0)\n",
            "Requirement already satisfied: typing-extensions<5,>=4.11 in /opt/anaconda3/lib/python3.11/site-packages (from openai) (4.12.2)\n",
            "Requirement already satisfied: idna>=2.8 in /opt/anaconda3/lib/python3.11/site-packages (from anyio<5,>=3.5.0->openai) (3.4)\n",
            "Requirement already satisfied: certifi in /opt/anaconda3/lib/python3.11/site-packages (from httpx<1,>=0.23.0->openai) (2024.8.30)\n",
            "Requirement already satisfied: httpcore==1.* in /opt/anaconda3/lib/python3.11/site-packages (from httpx<1,>=0.23.0->openai) (1.0.2)\n",
            "Requirement already satisfied: h11<0.15,>=0.13 in /opt/anaconda3/lib/python3.11/site-packages (from httpcore==1.*->httpx<1,>=0.23.0->openai) (0.14.0)\n",
            "Requirement already satisfied: playwright in /opt/anaconda3/lib/python3.11/site-packages (1.50.0)\n",
            "Requirement already satisfied: pyee<13,>=12 in /opt/anaconda3/lib/python3.11/site-packages (from playwright) (12.1.1)\n",
            "Requirement already satisfied: greenlet<4.0.0,>=3.1.1 in /opt/anaconda3/lib/python3.11/site-packages (from playwright) (3.1.1)\n",
            "Requirement already satisfied: typing-extensions in /opt/anaconda3/lib/python3.11/site-packages (from pyee<13,>=12->playwright) (4.12.2)\n"
          ]
        }
      ],
      "source": [
        "# !pip install openai\n",
        "# !pip install playwright\n",
        "# pip install --upgrade openai"
      ]
    },
    {
      "cell_type": "code",
      "execution_count": 1,
      "metadata": {
        "id": "_i3e-xfyJEtA"
      },
      "outputs": [],
      "source": [
        "import openai\n",
        "import os\n",
        "import subprocess\n",
        "from PIL import Image\n",
        "from openai import OpenAIError\n",
        "from dotenv import load_dotenv"
      ]
    },
    {
      "cell_type": "code",
      "execution_count": 4,
      "metadata": {
        "id": "LhERIPQaJOk_"
      },
      "outputs": [],
      "source": [
        "load_dotenv()\n",
        "OPENAI_API_KEY = os.getenv(\"OPENAI_API_KEY\")\n",
        "\n",
        "TRANSCRIPT_FILE = \"transcript-bio.txt\"\n",
        "PROMPT_FILE = \"prompt-bio.txt\"\n",
        "\n",
        "# Output Files\n",
        "CODE_JS_FILE = \"sketch.js\"\n",
        "IMAGE_FILE = \"img.png\"\n",
        "HTML_FILE = \"index.html\"\n",
        "P5_JS_LIBRARY = \"p5.js\""
      ]
    },
    {
      "cell_type": "code",
      "execution_count": 5,
      "metadata": {
        "id": "Wv9HNCDqGD5b"
      },
      "outputs": [],
      "source": [
        "client = openai.Client(\n",
        "    api_key=OPENAI_API_KEY\n",
        ")\n",
        "\n",
        "try:\n",
        "    with open(PROMPT_FILE, \"r\", encoding=\"utf-8\") as f:\n",
        "        gpt_prompt = f.read()\n",
        "    with open(TRANSCRIPT_FILE, \"r\", encoding=\"utf-8\") as f:\n",
        "        transcript_content = f.read()\n",
        "except FileNotFoundError as e:\n",
        "    print(f\"Error: File not found: {e.filename}\")\n",
        "    exit(1)\n",
        "except Exception as e:\n",
        "    print(f\"Error reading file: {e}\")\n",
        "    exit(1)\n",
        "\n",
        "try:\n",
        "    response = client.chat.completions.create(\n",
        "        model=\"gpt-4o\",\n",
        "        messages=[\n",
        "            {\"role\": \"system\", \"content\": gpt_prompt},\n",
        "            {\"role\": \"user\", \"content\": f\"<transcript>{transcript_content}<transcript>\"}\n",
        "        ],\n",
        "        temperature=0.2,  # Adjust for creativity\n",
        "    )\n",
        "    code_js = response.choices[0].message.content\n",
        "except OpenAIError as e:\n",
        "    print(f\"OpenAI API Error: {e}\")\n",
        "    exit(1)\n",
        "except Exception as e:\n",
        "    print(f\"Error during GPT interaction: {e}\")\n",
        "    exit(1)"
      ]
    },
    {
      "cell_type": "code",
      "execution_count": 6,
      "metadata": {
        "colab": {
          "base_uri": "https://localhost:8080/",
          "height": 143
        },
        "id": "qDn0orKnzRBT",
        "outputId": "4641d984-3cd4-441b-ed38-19d75753999a"
      },
      "outputs": [
        {
          "data": {
            "text/plain": [
              "'```javascript\\nlet transcript = `Meiosis is a type of cell division that produces reproductive cells, or \\ngametes, in reproducing organisms. Meiosis involves two rounds of cell \\ndivision that result in four haploid cells, each with half the number of\\nchromosomes as the original cell.`;\\n\\nfunction setup() {\\n  createCanvas(800, 600);\\n  background(255);\\n  textSize(16);\\n  textAlign(CENTER, CENTER);\\n  let words = transcript.split(\\' \\');\\n  let x = width / 2;\\n  let y = height / 2;\\n  let angle = 0;\\n  let radius = 200;\\n\\n  for (let i = 0; i < words.length; i++) {\\n    let word = words[i];\\n    let wordX = x + cos(angle) * radius;\\n    let wordY = y + sin(angle) * radius;\\n    fill(0);\\n    text(word, wordX, wordY);\\n    angle += TWO_PI / words.length;\\n  }\\n\\n  setTimeout(() => { \\n    saveCanvas(\\'img\\', \\'png\\'); \\n    document.body.setAttribute(\"data-ready\", \"true\"); \\n  }, 500);\\n}\\n\\nfunction draw() {\\n  // No need to draw continuously\\n  noLoop();\\n}\\n```'"
            ]
          },
          "execution_count": 6,
          "metadata": {},
          "output_type": "execute_result"
        }
      ],
      "source": [
        "code_js"
      ]
    },
    {
      "cell_type": "code",
      "execution_count": 10,
      "metadata": {
        "colab": {
          "base_uri": "https://localhost:8080/"
        },
        "id": "DuvCkJMXz90v",
        "outputId": "5400b270-554b-4744-aa4c-213669960f55"
      },
      "outputs": [
        {
          "name": "stdout",
          "output_type": "stream",
          "text": [
            "Generated p5.js code saved to: sketch.js\n"
          ]
        }
      ],
      "source": [
        "# --- Save p5.js Code ---\n",
        "import re\n",
        "cleaned_code = re.sub(r\"```javascript\\n|```\", \"\", code_js)\n",
        "\n",
        "try:\n",
        "    with open(CODE_JS_FILE, \"w\", encoding=\"utf-8\") as f:\n",
        "        f.write(cleaned_code)\n",
        "    print(f\"Generated p5.js code saved to: {CODE_JS_FILE}\")\n",
        "except Exception as e:\n",
        "    print(f\"Error saving p5.js code: {e}\")\n",
        "    exit(1)\n"
      ]
    },
    {
      "cell_type": "code",
      "execution_count": null,
      "metadata": {
        "colab": {
          "base_uri": "https://localhost:8080/"
        },
        "id": "_vfRr2V8XXZh",
        "outputId": "f18d9404-51c0-47fa-d981-613c90c4ff09"
      },
      "outputs": [],
      "source": [
        "# import asyncio\n",
        "# from playwright.async_api import async_playwright\n",
        "\n",
        "# async def capture_screenshot():\n",
        "#     async with async_playwright() as p:\n",
        "#         browser = await p.chromium.launch()\n",
        "#         page = await browser.new_page()\n",
        "\n",
        "#         # Open the p5.js sketch URL (Replace with your actual URL)\n",
        "#         await page.goto(\"http://localhost:8000\")\n",
        "\n",
        "#         # Wait for the canvas to be ready\n",
        "#         await page.wait_for_selector(\"canvas\")\n",
        "\n",
        "#         # Take a screenshot and save it as \"screenshot.png\"\n",
        "#         await page.screenshot(path=\"img.png\")\n",
        "\n",
        "#         await browser.close()\n",
        "#         print(\"Diagram saved as 'img.png'\")\n",
        "\n",
        "# # Run the function inside Jupyter Notebook\n",
        "# await capture_screenshot()"
      ]
    },
    {
      "cell_type": "code",
      "execution_count": 11,
      "metadata": {
        "colab": {
          "base_uri": "https://localhost:8080/",
          "height": 472
        },
        "id": "mSSFoY_xb9mf",
        "outputId": "a0f6a636-de27-4965-e566-5f4df28b0390"
      },
      "outputs": [
        {
          "ename": "Error",
          "evalue": "Page.goto: net::ERR_CONNECTION_REFUSED at http://localhost:8000/index.html\nCall log:\n  - navigating to \"http://localhost:8000/index.html\", waiting until \"load\"\n",
          "output_type": "error",
          "traceback": [
            "\u001b[0;31m---------------------------------------------------------------------------\u001b[0m",
            "\u001b[0;31mError\u001b[0m                                     Traceback (most recent call last)",
            "\u001b[1;32m/Users/alenachan/Desktop/Coding/TreeHacks/TreeHack-2025/stanford-tree-hacks-/transcript-to-img/nb-bio.ipynb Cell 8\u001b[0m line \u001b[0;36m2\n\u001b[1;32m     <a href='vscode-notebook-cell:/Users/alenachan/Desktop/Coding/TreeHacks/TreeHack-2025/stanford-tree-hacks-/transcript-to-img/nb-bio.ipynb#X10sZmlsZQ%3D%3D?line=18'>19</a>\u001b[0m         \u001b[39mprint\u001b[39m(\u001b[39m\"\u001b[39m\u001b[39mImage saved as img.png\u001b[39m\u001b[39m\"\u001b[39m)\n\u001b[1;32m     <a href='vscode-notebook-cell:/Users/alenachan/Desktop/Coding/TreeHacks/TreeHack-2025/stanford-tree-hacks-/transcript-to-img/nb-bio.ipynb#X10sZmlsZQ%3D%3D?line=20'>21</a>\u001b[0m \u001b[39m# Run the async function in Jupyter Notebook\u001b[39;00m\n\u001b[0;32m---> <a href='vscode-notebook-cell:/Users/alenachan/Desktop/Coding/TreeHacks/TreeHack-2025/stanford-tree-hacks-/transcript-to-img/nb-bio.ipynb#X10sZmlsZQ%3D%3D?line=21'>22</a>\u001b[0m \u001b[39mawait\u001b[39;00m capture_image()\n",
            "\u001b[1;32m/Users/alenachan/Desktop/Coding/TreeHacks/TreeHack-2025/stanford-tree-hacks-/transcript-to-img/nb-bio.ipynb Cell 8\u001b[0m line \u001b[0;36m1\n\u001b[1;32m      <a href='vscode-notebook-cell:/Users/alenachan/Desktop/Coding/TreeHacks/TreeHack-2025/stanford-tree-hacks-/transcript-to-img/nb-bio.ipynb#X10sZmlsZQ%3D%3D?line=6'>7</a>\u001b[0m page \u001b[39m=\u001b[39m \u001b[39mawait\u001b[39;00m browser\u001b[39m.\u001b[39mnew_page()\n\u001b[1;32m      <a href='vscode-notebook-cell:/Users/alenachan/Desktop/Coding/TreeHacks/TreeHack-2025/stanford-tree-hacks-/transcript-to-img/nb-bio.ipynb#X10sZmlsZQ%3D%3D?line=8'>9</a>\u001b[0m \u001b[39m# Open the local p5.js sketch\u001b[39;00m\n\u001b[0;32m---> <a href='vscode-notebook-cell:/Users/alenachan/Desktop/Coding/TreeHacks/TreeHack-2025/stanford-tree-hacks-/transcript-to-img/nb-bio.ipynb#X10sZmlsZQ%3D%3D?line=9'>10</a>\u001b[0m \u001b[39mawait\u001b[39;00m page\u001b[39m.\u001b[39mgoto(\u001b[39m\"\u001b[39m\u001b[39mhttp://localhost:8000/index.html\u001b[39m\u001b[39m\"\u001b[39m)\n\u001b[1;32m     <a href='vscode-notebook-cell:/Users/alenachan/Desktop/Coding/TreeHacks/TreeHack-2025/stanford-tree-hacks-/transcript-to-img/nb-bio.ipynb#X10sZmlsZQ%3D%3D?line=11'>12</a>\u001b[0m \u001b[39m# Wait for the body to get the 'data-ready' attribute\u001b[39;00m\n\u001b[1;32m     <a href='vscode-notebook-cell:/Users/alenachan/Desktop/Coding/TreeHacks/TreeHack-2025/stanford-tree-hacks-/transcript-to-img/nb-bio.ipynb#X10sZmlsZQ%3D%3D?line=12'>13</a>\u001b[0m \u001b[39mawait\u001b[39;00m page\u001b[39m.\u001b[39mwait_for_selector(\u001b[39m\"\u001b[39m\u001b[39mbody[data-ready=\u001b[39m\u001b[39m'\u001b[39m\u001b[39mtrue\u001b[39m\u001b[39m'\u001b[39m\u001b[39m]\u001b[39m\u001b[39m\"\u001b[39m)\n",
            "File \u001b[0;32m/opt/anaconda3/lib/python3.11/site-packages/playwright/async_api/_generated.py:8985\u001b[0m, in \u001b[0;36mPage.goto\u001b[0;34m(self, url, timeout, wait_until, referer)\u001b[0m\n\u001b[1;32m   8924\u001b[0m \u001b[39masync\u001b[39;00m \u001b[39mdef\u001b[39;00m \u001b[39mgoto\u001b[39m(\n\u001b[1;32m   8925\u001b[0m     \u001b[39mself\u001b[39m,\n\u001b[1;32m   8926\u001b[0m     url: \u001b[39mstr\u001b[39m,\n\u001b[0;32m   (...)\u001b[0m\n\u001b[1;32m   8932\u001b[0m     referer: typing\u001b[39m.\u001b[39mOptional[\u001b[39mstr\u001b[39m] \u001b[39m=\u001b[39m \u001b[39mNone\u001b[39;00m,\n\u001b[1;32m   8933\u001b[0m ) \u001b[39m-\u001b[39m\u001b[39m>\u001b[39m typing\u001b[39m.\u001b[39mOptional[\u001b[39m\"\u001b[39m\u001b[39mResponse\u001b[39m\u001b[39m\"\u001b[39m]:\n\u001b[1;32m   8934\u001b[0m \u001b[39m    \u001b[39m\u001b[39m\"\"\"Page.goto\u001b[39;00m\n\u001b[1;32m   8935\u001b[0m \n\u001b[1;32m   8936\u001b[0m \u001b[39m    Returns the main resource response. In case of multiple redirects, the navigation will resolve with the first\u001b[39;00m\n\u001b[0;32m   (...)\u001b[0m\n\u001b[1;32m   8981\u001b[0m \u001b[39m    Union[Response, None]\u001b[39;00m\n\u001b[1;32m   8982\u001b[0m \u001b[39m    \"\"\"\u001b[39;00m\n\u001b[1;32m   8984\u001b[0m     \u001b[39mreturn\u001b[39;00m mapping\u001b[39m.\u001b[39mfrom_impl_nullable(\n\u001b[0;32m-> 8985\u001b[0m         \u001b[39mawait\u001b[39;00m \u001b[39mself\u001b[39m\u001b[39m.\u001b[39m_impl_obj\u001b[39m.\u001b[39mgoto(\n\u001b[1;32m   8986\u001b[0m             url\u001b[39m=\u001b[39murl, timeout\u001b[39m=\u001b[39mtimeout, waitUntil\u001b[39m=\u001b[39mwait_until, referer\u001b[39m=\u001b[39mreferer\n\u001b[1;32m   8987\u001b[0m         )\n\u001b[1;32m   8988\u001b[0m     )\n",
            "File \u001b[0;32m/opt/anaconda3/lib/python3.11/site-packages/playwright/_impl/_page.py:551\u001b[0m, in \u001b[0;36mPage.goto\u001b[0;34m(self, url, timeout, waitUntil, referer)\u001b[0m\n\u001b[1;32m    544\u001b[0m \u001b[39masync\u001b[39;00m \u001b[39mdef\u001b[39;00m \u001b[39mgoto\u001b[39m(\n\u001b[1;32m    545\u001b[0m     \u001b[39mself\u001b[39m,\n\u001b[1;32m    546\u001b[0m     url: \u001b[39mstr\u001b[39m,\n\u001b[0;32m   (...)\u001b[0m\n\u001b[1;32m    549\u001b[0m     referer: \u001b[39mstr\u001b[39m \u001b[39m=\u001b[39m \u001b[39mNone\u001b[39;00m,\n\u001b[1;32m    550\u001b[0m ) \u001b[39m-\u001b[39m\u001b[39m>\u001b[39m Optional[Response]:\n\u001b[0;32m--> 551\u001b[0m     \u001b[39mreturn\u001b[39;00m \u001b[39mawait\u001b[39;00m \u001b[39mself\u001b[39m\u001b[39m.\u001b[39m_main_frame\u001b[39m.\u001b[39mgoto(\u001b[39m*\u001b[39m\u001b[39m*\u001b[39mlocals_to_params(\u001b[39mlocals\u001b[39m()))\n",
            "File \u001b[0;32m/opt/anaconda3/lib/python3.11/site-packages/playwright/_impl/_frame.py:145\u001b[0m, in \u001b[0;36mFrame.goto\u001b[0;34m(self, url, timeout, waitUntil, referer)\u001b[0m\n\u001b[1;32m    135\u001b[0m \u001b[39masync\u001b[39;00m \u001b[39mdef\u001b[39;00m \u001b[39mgoto\u001b[39m(\n\u001b[1;32m    136\u001b[0m     \u001b[39mself\u001b[39m,\n\u001b[1;32m    137\u001b[0m     url: \u001b[39mstr\u001b[39m,\n\u001b[0;32m   (...)\u001b[0m\n\u001b[1;32m    140\u001b[0m     referer: \u001b[39mstr\u001b[39m \u001b[39m=\u001b[39m \u001b[39mNone\u001b[39;00m,\n\u001b[1;32m    141\u001b[0m ) \u001b[39m-\u001b[39m\u001b[39m>\u001b[39m Optional[Response]:\n\u001b[1;32m    142\u001b[0m     \u001b[39mreturn\u001b[39;00m cast(\n\u001b[1;32m    143\u001b[0m         Optional[Response],\n\u001b[1;32m    144\u001b[0m         from_nullable_channel(\n\u001b[0;32m--> 145\u001b[0m             \u001b[39mawait\u001b[39;00m \u001b[39mself\u001b[39m\u001b[39m.\u001b[39m_channel\u001b[39m.\u001b[39msend(\u001b[39m\"\u001b[39m\u001b[39mgoto\u001b[39m\u001b[39m\"\u001b[39m, locals_to_params(\u001b[39mlocals\u001b[39m()))\n\u001b[1;32m    146\u001b[0m         ),\n\u001b[1;32m    147\u001b[0m     )\n",
            "File \u001b[0;32m/opt/anaconda3/lib/python3.11/site-packages/playwright/_impl/_connection.py:61\u001b[0m, in \u001b[0;36mChannel.send\u001b[0;34m(self, method, params)\u001b[0m\n\u001b[1;32m     60\u001b[0m \u001b[39masync\u001b[39;00m \u001b[39mdef\u001b[39;00m \u001b[39msend\u001b[39m(\u001b[39mself\u001b[39m, method: \u001b[39mstr\u001b[39m, params: Dict \u001b[39m=\u001b[39m \u001b[39mNone\u001b[39;00m) \u001b[39m-\u001b[39m\u001b[39m>\u001b[39m Any:\n\u001b[0;32m---> 61\u001b[0m     \u001b[39mreturn\u001b[39;00m \u001b[39mawait\u001b[39;00m \u001b[39mself\u001b[39m\u001b[39m.\u001b[39m_connection\u001b[39m.\u001b[39mwrap_api_call(\n\u001b[1;32m     62\u001b[0m         \u001b[39mlambda\u001b[39;00m: \u001b[39mself\u001b[39m\u001b[39m.\u001b[39m_inner_send(method, params, \u001b[39mFalse\u001b[39;00m),\n\u001b[1;32m     63\u001b[0m         \u001b[39mself\u001b[39m\u001b[39m.\u001b[39m_is_internal_type,\n\u001b[1;32m     64\u001b[0m     )\n",
            "File \u001b[0;32m/opt/anaconda3/lib/python3.11/site-packages/playwright/_impl/_connection.py:528\u001b[0m, in \u001b[0;36mConnection.wrap_api_call\u001b[0;34m(self, cb, is_internal)\u001b[0m\n\u001b[1;32m    526\u001b[0m     \u001b[39mreturn\u001b[39;00m \u001b[39mawait\u001b[39;00m cb()\n\u001b[1;32m    527\u001b[0m \u001b[39mexcept\u001b[39;00m \u001b[39mException\u001b[39;00m \u001b[39mas\u001b[39;00m error:\n\u001b[0;32m--> 528\u001b[0m     \u001b[39mraise\u001b[39;00m rewrite_error(error, \u001b[39mf\u001b[39m\u001b[39m\"\u001b[39m\u001b[39m{\u001b[39;00mparsed_st[\u001b[39m'\u001b[39m\u001b[39mapiName\u001b[39m\u001b[39m'\u001b[39m]\u001b[39m}\u001b[39;00m\u001b[39m: \u001b[39m\u001b[39m{\u001b[39;00merror\u001b[39m}\u001b[39;00m\u001b[39m\"\u001b[39m) \u001b[39mfrom\u001b[39;00m \u001b[39mNone\u001b[39;00m\n\u001b[1;32m    529\u001b[0m \u001b[39mfinally\u001b[39;00m:\n\u001b[1;32m    530\u001b[0m     \u001b[39mself\u001b[39m\u001b[39m.\u001b[39m_api_zone\u001b[39m.\u001b[39mset(\u001b[39mNone\u001b[39;00m)\n",
            "\u001b[0;31mError\u001b[0m: Page.goto: net::ERR_CONNECTION_REFUSED at http://localhost:8000/index.html\nCall log:\n  - navigating to \"http://localhost:8000/index.html\", waiting until \"load\"\n"
          ]
        }
      ],
      "source": [
        "import asyncio\n",
        "from playwright.async_api import async_playwright\n",
        "\n",
        "async def capture_image():\n",
        "    async with async_playwright() as p:\n",
        "        browser = await p.chromium.launch()\n",
        "        page = await browser.new_page()\n",
        "\n",
        "        # Open the local p5.js sketch\n",
        "        await page.goto(\"http://localhost:8000/index.html\")\n",
        "\n",
        "        # Wait for the body to get the 'data-ready' attribute\n",
        "        await page.wait_for_selector(\"body[data-ready='true']\")\n",
        "\n",
        "        # Capture the image\n",
        "        await page.screenshot(path=\"img_bio.png\")\n",
        "\n",
        "        await browser.close()\n",
        "        print(\"Image saved as img.png\")\n",
        "\n",
        "# Run the async function in Jupyter Notebook\n",
        "await capture_image()"
      ]
    }
  ],
  "metadata": {
    "colab": {
      "provenance": []
    },
    "kernelspec": {
      "display_name": "Python 3",
      "name": "python3"
    },
    "language_info": {
      "codemirror_mode": {
        "name": "ipython",
        "version": 3
      },
      "file_extension": ".py",
      "mimetype": "text/x-python",
      "name": "python",
      "nbconvert_exporter": "python",
      "pygments_lexer": "ipython3",
      "version": "3.11.7"
    }
  },
  "nbformat": 4,
  "nbformat_minor": 0
}
